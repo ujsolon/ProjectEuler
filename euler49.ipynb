{
 "cells": [
  {
   "cell_type": "code",
   "execution_count": null,
   "id": "6ae04e1e",
   "metadata": {},
   "outputs": [],
   "source": [
    "import itertools as it\n",
    "\n",
    "digits = [0,1,2,3,4,5,6,7,8,9]\n",
    "\n",
    "\n",
    "for i in range(1000,2000):\n",
    "    \n",
    "a=list(it.permutations(digits))\n",
    "a.sort()\n",
    "a[10**6+1]\n",
    "\n"
   ]
  },
  {
   "cell_type": "code",
   "execution_count": 53,
   "id": "0197b288",
   "metadata": {},
   "outputs": [
    {
     "data": {
      "text/plain": [
       "True"
      ]
     },
     "execution_count": 53,
     "metadata": {},
     "output_type": "execute_result"
    }
   ],
   "source": [
    "import math\n",
    "def isprime(num:int) -> bool:\n",
    "    a=2\n",
    "    while a<=math.sqrt(num):\n",
    "        if num%a<1:\n",
    "            return False\n",
    "        a=a+1\n",
    "    return num>1\n",
    "\n",
    "def samedigits(l:[int]):\n",
    "    for x in l:\n",
    "        for y in l:\n",
    "            if not set(str(x))==set(str(y)):\n",
    "                return False\n",
    "    return True\n",
    "\n",
    "l=[1487, 4817, 8147]\n",
    "\n",
    "#set(str(l[0]))==set(str(l[1]))\n",
    "samedigits(l)\n",
    "\n"
   ]
  },
  {
   "cell_type": "code",
   "execution_count": 55,
   "id": "d67f7d7b",
   "metadata": {},
   "outputs": [],
   "source": [
    "primes = [x for x in range(1000,9999) if isprime(x)==True]\n",
    "primesarith=[]\n",
    "for i in range(len(primes)):\n",
    "    for j in range(i+1, len(primes)):\n",
    "        d = primes[j]-primes[i]\n",
    "        if (primes[j]+d) in primes:\n",
    "            primesarith.append([primes[i],primes[j],primes[j]+d])\n",
    "ans = [l for l in primesarith if samedigits(l)==True]"
   ]
  },
  {
   "cell_type": "code",
   "execution_count": 56,
   "id": "4388f893",
   "metadata": {},
   "outputs": [
    {
     "data": {
      "text/plain": [
       "[[1487, 4817, 8147], [2969, 6299, 9629]]"
      ]
     },
     "execution_count": 56,
     "metadata": {},
     "output_type": "execute_result"
    }
   ],
   "source": [
    "ans"
   ]
  }
 ],
 "metadata": {
  "kernelspec": {
   "display_name": "Python 3 (ipykernel)",
   "language": "python",
   "name": "python3"
  },
  "language_info": {
   "codemirror_mode": {
    "name": "ipython",
    "version": 3
   },
   "file_extension": ".py",
   "mimetype": "text/x-python",
   "name": "python",
   "nbconvert_exporter": "python",
   "pygments_lexer": "ipython3",
   "version": "3.9.12"
  }
 },
 "nbformat": 4,
 "nbformat_minor": 5
}
