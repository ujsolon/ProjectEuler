{
 "cells": [
  {
   "cell_type": "markdown",
   "id": "cb95e29a",
   "metadata": {},
   "source": [
    "Adding a list1 and list89 to chache previous results did not speed up the process, in fact I think adding the inclusion search (x in list) slowed it down by a lot"
   ]
  },
  {
   "cell_type": "code",
   "execution_count": 17,
   "id": "17f8dd98",
   "metadata": {
    "collapsed": true
   },
   "outputs": [
    {
     "ename": "KeyboardInterrupt",
     "evalue": "",
     "output_type": "error",
     "traceback": [
      "\u001b[1;31m---------------------------------------------------------------------------\u001b[0m",
      "\u001b[1;31mKeyboardInterrupt\u001b[0m                         Traceback (most recent call last)",
      "\u001b[1;32m~\\AppData\\Local\\Temp/ipykernel_3280/325816858.py\u001b[0m in \u001b[0;36m<module>\u001b[1;34m\u001b[0m\n\u001b[0;32m     13\u001b[0m         \u001b[1;32mif\u001b[0m \u001b[0mx\u001b[0m \u001b[1;32min\u001b[0m \u001b[0mlist1\u001b[0m\u001b[1;33m:\u001b[0m\u001b[1;33m\u001b[0m\u001b[1;33m\u001b[0m\u001b[0m\n\u001b[0;32m     14\u001b[0m             \u001b[0mx\u001b[0m\u001b[1;33m=\u001b[0m\u001b[1;36m1\u001b[0m\u001b[1;33m\u001b[0m\u001b[1;33m\u001b[0m\u001b[0m\n\u001b[1;32m---> 15\u001b[1;33m         \u001b[1;32mif\u001b[0m \u001b[0mx\u001b[0m \u001b[1;32min\u001b[0m \u001b[0mlist89\u001b[0m\u001b[1;33m:\u001b[0m\u001b[1;33m\u001b[0m\u001b[1;33m\u001b[0m\u001b[0m\n\u001b[0m\u001b[0;32m     16\u001b[0m             \u001b[0mx\u001b[0m\u001b[1;33m=\u001b[0m\u001b[1;36m89\u001b[0m\u001b[1;33m\u001b[0m\u001b[1;33m\u001b[0m\u001b[0m\n\u001b[0;32m     17\u001b[0m         \u001b[1;32mif\u001b[0m \u001b[0mx\u001b[0m\u001b[1;33m==\u001b[0m\u001b[1;36m1\u001b[0m\u001b[1;33m:\u001b[0m\u001b[1;33m\u001b[0m\u001b[1;33m\u001b[0m\u001b[0m\n",
      "\u001b[1;31mKeyboardInterrupt\u001b[0m: "
     ]
    }
   ],
   "source": [
    "x = 44\n",
    "count1 = 0\n",
    "list1 = []\n",
    "count89 = 0\n",
    "list89 = []\n",
    "for x in range(1,10**7):\n",
    "    if x%10**6==0:\n",
    "        print(x)\n",
    "    flag=0\n",
    "    while flag==0:\n",
    "        xold=x\n",
    "        x=SumSqDigits(x)\n",
    "        if x in list1:\n",
    "            x=1\n",
    "        if x in list89:\n",
    "            x=89\n",
    "        if x==1:\n",
    "            list1.append(xold)\n",
    "            count1+=1\n",
    "            flag=1\n",
    "        if x==89:\n",
    "            list89.append(xold)\n",
    "            count89+=1\n",
    "            flag=1"
   ]
  },
  {
   "cell_type": "markdown",
   "id": "350c09e2",
   "metadata": {},
   "source": [
    "Brute force method"
   ]
  },
  {
   "cell_type": "code",
   "execution_count": 13,
   "id": "b3fbbe03",
   "metadata": {},
   "outputs": [
    {
     "name": "stdout",
     "output_type": "stream",
     "text": [
      "1000000\n",
      "2000000\n",
      "3000000\n",
      "4000000\n",
      "5000000\n",
      "6000000\n",
      "7000000\n",
      "8000000\n",
      "9000000\n"
     ]
    }
   ],
   "source": [
    "x=44\n",
    "count1=0\n",
    "count89=0\n",
    "for x in range(1,10**7):\n",
    "    if x%10**6==0:\n",
    "        print(x)\n",
    "    flag=0\n",
    "    while flag==0:\n",
    "        x=SumSqDigits(x)\n",
    "        if x==1:\n",
    "            count1+=1\n",
    "            flag=1\n",
    "        if x==89:\n",
    "            count89+=1\n",
    "            flag=1"
   ]
  },
  {
   "cell_type": "code",
   "execution_count": 15,
   "id": "8ed4f6d0",
   "metadata": {},
   "outputs": [
    {
     "data": {
      "text/plain": [
       "1418853"
      ]
     },
     "execution_count": 15,
     "metadata": {},
     "output_type": "execute_result"
    }
   ],
   "source": [
    "count1"
   ]
  },
  {
   "cell_type": "code",
   "execution_count": 14,
   "id": "4880cb25",
   "metadata": {},
   "outputs": [
    {
     "data": {
      "text/plain": [
       "8581146"
      ]
     },
     "execution_count": 14,
     "metadata": {},
     "output_type": "execute_result"
    }
   ],
   "source": [
    "count89"
   ]
  },
  {
   "cell_type": "code",
   "execution_count": null,
   "id": "7d88c3e4",
   "metadata": {},
   "outputs": [],
   "source": [
    "x=44\n",
    "def digits(x:int):\n",
    "    return [int(item) for item in list(str(x))]\n",
    "\n",
    "def SumSqDigits(x:int):\n",
    "    return sum([int(item)**2 for item in list(str(x))])"
   ]
  }
 ],
 "metadata": {
  "kernelspec": {
   "display_name": "Python 3 (ipykernel)",
   "language": "python",
   "name": "python3"
  },
  "language_info": {
   "codemirror_mode": {
    "name": "ipython",
    "version": 3
   },
   "file_extension": ".py",
   "mimetype": "text/x-python",
   "name": "python",
   "nbconvert_exporter": "python",
   "pygments_lexer": "ipython3",
   "version": "3.9.12"
  }
 },
 "nbformat": 4,
 "nbformat_minor": 5
}
