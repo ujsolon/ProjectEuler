{
 "cells": [
  {
   "cell_type": "markdown",
   "id": "8e77136a",
   "metadata": {},
   "source": [
    "Solved using OEIS\n",
    "https://oeis.org/A007676/b007676.txt"
   ]
  },
  {
   "cell_type": "code",
   "execution_count": 17,
   "id": "bfa6bd95",
   "metadata": {},
   "outputs": [
    {
     "data": {
      "text/plain": [
       "272"
      ]
     },
     "execution_count": 17,
     "metadata": {},
     "output_type": "execute_result"
    }
   ],
   "source": [
    "def intToDigits(x):\n",
    "    return ([int(item) for item in list(str(x))])\n",
    "def sumDigits(x):\n",
    "    return sum([int(item) for item in list(str(x))])\n",
    "\n",
    "sumDigits(6963524437876961749120273824619538346438023188214475670667)"
   ]
  }
 ],
 "metadata": {
  "kernelspec": {
   "display_name": "Python 3 (ipykernel)",
   "language": "python",
   "name": "python3"
  },
  "language_info": {
   "codemirror_mode": {
    "name": "ipython",
    "version": 3
   },
   "file_extension": ".py",
   "mimetype": "text/x-python",
   "name": "python",
   "nbconvert_exporter": "python",
   "pygments_lexer": "ipython3",
   "version": "3.9.12"
  }
 },
 "nbformat": 4,
 "nbformat_minor": 5
}
