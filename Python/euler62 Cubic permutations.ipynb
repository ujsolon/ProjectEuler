{
 "cells": [
  {
   "cell_type": "code",
   "execution_count": 1,
   "id": "af2adfdf",
   "metadata": {},
   "outputs": [
    {
     "data": {
      "text/plain": [
       "127035954683"
      ]
     },
     "execution_count": 1,
     "metadata": {},
     "output_type": "execute_result"
    }
   ],
   "source": [
    "##return sorted digits\n",
    "def digits(x):\n",
    "    return sorted(list(str(x)))\n",
    "\n",
    "##initialize some lists, set cubes to be sorted in terms of appearance of sorted digits\n",
    "myrange=list(range(1,10**4))\n",
    "cubes=[x**3 for x in myrange]\n",
    "cubes=sorted(cubes,key=digits) ##this line is the sorting line, makes sure that numbers with the same digits go after one another\n",
    "\n",
    "ans=0\n",
    "i=0\n",
    "while i<len(cubes)-3:\n",
    "    if digits(cubes[i])!=digits(cubes[i+1]): ##immediately exit if next term doesnt contain the same digits\n",
    "        i+=1\n",
    "        continue\n",
    "    if digits(cubes[i])!=digits(cubes[i+2]):\n",
    "        i+=2\n",
    "        continue\n",
    "    if digits(cubes[i])!=digits(cubes[i+3]):\n",
    "        i+=3\n",
    "        continue\n",
    "    if digits(cubes[i])!=digits(cubes[i+4]):\n",
    "        i+=4\n",
    "        continue\n",
    "    ans=cubes[i]\n",
    "    break\n",
    "ans"
   ]
  },
  {
   "cell_type": "code",
   "execution_count": 101,
   "id": "04902836",
   "metadata": {},
   "outputs": [
    {
     "data": {
      "text/plain": [
       "True"
      ]
     },
     "execution_count": 101,
     "metadata": {},
     "output_type": "execute_result"
    }
   ],
   "source": [
    "cubes[139:142]\n",
    "digits(cubes[139])==digits(cubes[140])"
   ]
  },
  {
   "cell_type": "code",
   "execution_count": 83,
   "id": "bdb20286",
   "metadata": {},
   "outputs": [
    {
     "data": {
      "text/plain": [
       "['1', '2', '4']"
      ]
     },
     "execution_count": 83,
     "metadata": {},
     "output_type": "execute_result"
    }
   ],
   "source": [
    "ans=0\n",
    "myrange=list(range(1,500))\n",
    "def digits(x):\n",
    "    return sorted(list(str(x)))\n",
    "\n",
    "digits(412)"
   ]
  },
  {
   "cell_type": "code",
   "execution_count": null,
   "id": "6bc33ec1",
   "metadata": {},
   "outputs": [],
   "source": [
    "ans=0\n",
    "myrange=list(range(1,500))\n",
    "\n",
    "def digits(x):\n",
    "    cubes=[x**3 for x in myrange]\n",
    "    return [sorted(list(str(x))) for x in cubes]\n",
    "i=0\n",
    "\n",
    "while i<len(digits)-3:\n",
    "    if digits[i]!=digits[i+1]:\n",
    "        i+=1\n",
    "        continue\n",
    "    '''\n",
    "    if digits[i]!=digits[i+2]:\n",
    "    i+=2\n",
    "       \n",
    "    continue\n",
    "    if digits[i]!=digits[i+3]:\n",
    "        i+=3\n",
    "        continue\n",
    "    ''' \n",
    "    ans=cubes[i]\n",
    "    break\n",
    "ans"
   ]
  },
  {
   "cell_type": "code",
   "execution_count": null,
   "id": "9af155f8",
   "metadata": {},
   "outputs": [],
   "source": [
    "ans=0\n",
    "myrange=list(range(10**4,10**7))\n",
    "for num in myrange:\n",
    "    s=str(num)\n",
    "    perms = list(set(it.permutations(s)))\n",
    "    permsint = [listTOint(x) for x in perms]\n",
    "    for item in permsint:\n",
    "        if not item in myrange:\n",
    "            continue\n",
    "        myrange.remove(item)\n",
    "    cubes = [x for x in permsint if isCube(x)==True]\n",
    "    if len(cubes)==4:\n",
    "        ans=num\n",
    "        break\n",
    "ans"
   ]
  },
  {
   "cell_type": "code",
   "execution_count": null,
   "id": "b79f8391",
   "metadata": {},
   "outputs": [],
   "source": [
    "ans=0\n",
    "myrange=list(range(1000,2000))\n",
    "for num in myrange:\n",
    "    s = str(num**3)\n",
    "    perms = list(set(it.permutations(s)))\n",
    "    permsint = [listTOint(x) for x in perms if isCube(listTOint(x))==True]\n",
    "    for item in permsint:\n",
    "        temp = int(item**(1/3))\n",
    "        if not temp in myrange:\n",
    "            continue\n",
    "        myrange.remove(temp)\n",
    "    if sum([isCube(x) for x in permsint])==5:\n",
    "        ans=num\n",
    "        break"
   ]
  },
  {
   "cell_type": "code",
   "execution_count": null,
   "id": "68b12670",
   "metadata": {},
   "outputs": [],
   "source": [
    "def listTOint(l):\n",
    "    s = [str(integer) for integer in l]\n",
    "    a_string = \"\".join(s)\n",
    "    res = int(a_string)\n",
    "    return res\n",
    "\n",
    "def isCube(number) -> bool:\n",
    "    number = abs(number)  # Prevents errors due to negative numbers\n",
    "    return round(number ** (1 / 3)) ** 3 == number"
   ]
  },
  {
   "cell_type": "code",
   "execution_count": 15,
   "id": "5afbc72a",
   "metadata": {},
   "outputs": [
    {
     "data": {
      "text/plain": [
       "3"
      ]
     },
     "execution_count": 15,
     "metadata": {},
     "output_type": "execute_result"
    }
   ],
   "source": [
    "import itertools as it\n",
    "\n",
    "perms = list(set(it.permutations('41063625')))\n",
    "sum([isCube(listTOint(x)) for x in perms])"
   ]
  },
  {
   "cell_type": "code",
   "execution_count": 68,
   "id": "c877e81e",
   "metadata": {},
   "outputs": [
    {
     "name": "stdout",
     "output_type": "stream",
     "text": [
      "345 ['0', '1', '2', '3', '4', '5', '6', '6']\n",
      "384 ['0', '1', '2', '3', '4', '5', '6', '6']\n"
     ]
    }
   ],
   "source": [
    "print(myrange[344], digits[344])\n",
    "print(myrange[383], digits[404])"
   ]
  },
  {
   "cell_type": "code",
   "execution_count": null,
   "id": "a14e7516",
   "metadata": {},
   "outputs": [],
   "source": [
    "https://thispointer.com/python-check-if-two-lists-are-equal-or-not-covers-both-ordered-unordered-lists/"
   ]
  },
  {
   "cell_type": "code",
   "execution_count": 55,
   "id": "8581a97c",
   "metadata": {},
   "outputs": [
    {
     "data": {
      "text/plain": [
       "True"
      ]
     },
     "execution_count": 55,
     "metadata": {},
     "output_type": "execute_result"
    }
   ],
   "source": [
    "def check_if_equal(list_1, list_2):\n",
    "    \"\"\" Check if both the lists are of same length and if yes then compare\n",
    "    sorted versions of both the list to check if both of them are equal\n",
    "    i.e. contain similar elements with same frequency. \"\"\"\n",
    "    if len(list_1) != len(list_2):\n",
    "        return False\n",
    "    return sorted(list_1) == sorted(list_2)\n",
    "\n",
    "check_if_equal(['8', '5', '1', '8', '4'], ['8', '5', '1', '4','8'])"
   ]
  },
  {
   "cell_type": "code",
   "execution_count": null,
   "id": "d0ce7d01",
   "metadata": {},
   "outputs": [],
   "source": []
  }
 ],
 "metadata": {
  "kernelspec": {
   "display_name": "Python 3 (ipykernel)",
   "language": "python",
   "name": "python3"
  },
  "language_info": {
   "codemirror_mode": {
    "name": "ipython",
    "version": 3
   },
   "file_extension": ".py",
   "mimetype": "text/x-python",
   "name": "python",
   "nbconvert_exporter": "python",
   "pygments_lexer": "ipython3",
   "version": "3.9.12"
  }
 },
 "nbformat": 4,
 "nbformat_minor": 5
}
