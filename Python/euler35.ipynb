{
 "cells": [
  {
   "cell_type": "markdown",
   "id": "4638567c",
   "metadata": {},
   "source": [
    "Rotate a list\n",
    "https://stackoverflow.com/questions/33521371/pythonic-way-to-generate-string-rotations"
   ]
  },
  {
   "cell_type": "code",
   "execution_count": 20,
   "id": "0f6e05ee",
   "metadata": {},
   "outputs": [
    {
     "data": {
      "text/plain": [
       "55"
      ]
     },
     "execution_count": 20,
     "metadata": {},
     "output_type": "execute_result"
    }
   ],
   "source": [
    "import math\n",
    "def isprime(num):\n",
    "    a=2\n",
    "    while a<=math.sqrt(num):\n",
    "        if num%a<1:\n",
    "            return False\n",
    "        a=a+1\n",
    "    return num>1\n",
    "\n",
    "def allrotations(n):\n",
    "    s = str(n)\n",
    "    return [int(s[x:]+s[:x]) for x in range(len(s))]\n",
    "\n",
    "N=10**6+1\n",
    "primes = [x for x in range(1,N) if isprime(x)]\n",
    "\n",
    "circprimes=[]\n",
    "for x in primes:\n",
    "    if len(set([isprime(x) for x in allrotations(x)]))==1:\n",
    "        circprimes.append(x)\n",
    "        \n",
    "len(circprimes)"
   ]
  }
 ],
 "metadata": {
  "kernelspec": {
   "display_name": "Python 3 (ipykernel)",
   "language": "python",
   "name": "python3"
  },
  "language_info": {
   "codemirror_mode": {
    "name": "ipython",
    "version": 3
   },
   "file_extension": ".py",
   "mimetype": "text/x-python",
   "name": "python",
   "nbconvert_exporter": "python",
   "pygments_lexer": "ipython3",
   "version": "3.9.12"
  }
 },
 "nbformat": 4,
 "nbformat_minor": 5
}
