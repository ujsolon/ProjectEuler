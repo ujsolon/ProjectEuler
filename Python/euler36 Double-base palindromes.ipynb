{
 "cells": [
  {
   "cell_type": "code",
   "execution_count": 5,
   "id": "7b8c3aaa",
   "metadata": {},
   "outputs": [
    {
     "data": {
      "text/plain": [
       "872187"
      ]
     },
     "execution_count": 5,
     "metadata": {},
     "output_type": "execute_result"
    }
   ],
   "source": [
    "def isPalindrome(s:str)->bool:\n",
    "    return(s==s[::-1])\n",
    "\n",
    "palindromes10 = []\n",
    "for i in range(1, 10**6):\n",
    "    if isPalindrome(str(i))==True:\n",
    "        palindromes10.append(i)\n",
    "len(palindromes10)\n",
    "palindromes2 = []\n",
    "for j in palindromes10:\n",
    "    if isPalindrome(str(bin(j)[2:]))==True:\n",
    "        palindromes2.append(j)\n",
    "\n",
    "sum(palindromes2)"
   ]
  },
  {
   "cell_type": "code",
   "execution_count": 28,
   "id": "1c0ad367",
   "metadata": {},
   "outputs": [
    {
     "data": {
      "text/plain": [
       "'10010'"
      ]
     },
     "execution_count": 28,
     "metadata": {},
     "output_type": "execute_result"
    }
   ],
   "source": []
  },
  {
   "cell_type": "code",
   "execution_count": 27,
   "id": "83dcb7e9",
   "metadata": {},
   "outputs": [
    {
     "data": {
      "text/plain": [
       "1998"
      ]
     },
     "execution_count": 27,
     "metadata": {},
     "output_type": "execute_result"
    }
   ],
   "source": [
    "len(palindromes10)"
   ]
  }
 ],
 "metadata": {
  "kernelspec": {
   "display_name": "Python 3 (ipykernel)",
   "language": "python",
   "name": "python3"
  },
  "language_info": {
   "codemirror_mode": {
    "name": "ipython",
    "version": 3
   },
   "file_extension": ".py",
   "mimetype": "text/x-python",
   "name": "python",
   "nbconvert_exporter": "python",
   "pygments_lexer": "ipython3",
   "version": "3.9.12"
  }
 },
 "nbformat": 4,
 "nbformat_minor": 5
}
