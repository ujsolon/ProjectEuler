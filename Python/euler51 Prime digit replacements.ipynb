{
 "cells": [
  {
   "cell_type": "markdown",
   "id": "3d3f54eb",
   "metadata": {},
   "source": [
    "Number of digits to be replaced cant be 1, 2, 4, 5, 7, 8, since this result with a number being divisible by 3:\n",
    "sum of digits (num)+1\n",
    "sum of digits (num)+2\n",
    "sum of digits (num)+3\n",
    "one of these is divisible by 3\n",
    "sum of digits (num)+1+1\n",
    "sum of digits (num)+2+2\n",
    "sum of digits (num)+3+3\n",
    "as well as these"
   ]
  },
  {
   "cell_type": "markdown",
   "id": "2295a3c5",
   "metadata": {},
   "source": [
    "The only possible number of digits would be 3, 6, 9, and since we're looking for the lowest prime, 3 would be good candidate. The possible solutions look like\n",
    "ixxxj\n",
    "ixxkxj\n",
    "ixkxxj\n",
    "xixkxj\n",
    "where j is odd, i non-zero. We can let the values i,j,k range thru (0,100), but again, lowest prime."
   ]
  },
  {
   "cell_type": "code",
   "execution_count": null,
   "id": "a7ef3acb",
   "metadata": {},
   "outputs": [],
   "source": [
    "##considering ixxkxj and ixkxxj\n",
    "ansflag=0\n",
    "ans=[]\n",
    "for i in range(1,10):\n",
    "    for j in range(1,10,2):\n",
    "        for k in range(0,10):\n",
    "            temp=[]\n",
    "            for x in digits:\n",
    "                temp.append(int(x+ str(i)+ x + str(k) + x + str(j))) ##ans = 121313\n",
    "                #temp.append(int(str(i) + x + str(k) + x*2 + str(j))) ##ans = 2090021\n",
    "                #temp.append(int(str(i) + x*2 + str(k) + x + str(j))) ##ans =4004509\n",
    "            l = [x for x in temp if isprime(x)==True]\n",
    "            if len(l)==8:\n",
    "                ansflag=1\n",
    "                ans=l\n",
    "            if ansflag==1:\n",
    "                break\n",
    "        if ansflag==1:\n",
    "            break\n",
    "ans"
   ]
  },
  {
   "cell_type": "code",
   "execution_count": 198,
   "id": "eb36a972",
   "metadata": {},
   "outputs": [
    {
     "data": {
      "text/plain": [
       "[True, True, True, True, True, True, True, True]"
      ]
     },
     "execution_count": 198,
     "metadata": {},
     "output_type": "execute_result"
    }
   ],
   "source": [
    "q = [2090021, 2191121, 2292221, 2494421, 2595521, 2696621, 2898821, 2999921]\n",
    "[isprime(x) for x in q]"
   ]
  },
  {
   "cell_type": "code",
   "execution_count": 222,
   "id": "636da61f",
   "metadata": {},
   "outputs": [
    {
     "data": {
      "text/plain": [
       "[121313, 222323, 323333, 424343, 525353, 626363, 828383, 929393]"
      ]
     },
     "execution_count": 222,
     "metadata": {},
     "output_type": "execute_result"
    }
   ],
   "source": [
    "'''\n",
    "ansflag=0\n",
    "ans=[]\n",
    "for i in range(1,10):\n",
    "    for j in range(1,10,2):\n",
    "        temp=[]\n",
    "        for x in digits:\n",
    "            temp.append(int(str(i)+x*3+str(j)))\n",
    "        l = [x for x in temp if isprime(x)==True]\n",
    "        if len(l)==8:\n",
    "            ansflag=1\n",
    "            ans=l\n",
    "        if ansflag==1:\n",
    "            break\n",
    "    if ansflag==1:\n",
    "        break\n",
    "\n",
    "##letting first 2 digits go from 1 to 99\n",
    "ansflag=0\n",
    "ans=[]\n",
    "for i in range(1,100):\n",
    "    for j in range(1,100,2):\n",
    "        temp=[]\n",
    "        for x in digits:\n",
    "            temp.append(int(str(i)+x*3+str(j)))\n",
    "        l = [x for x in temp if isprime(x)==True]\n",
    "        if len(l)==8:\n",
    "            ansflag=1\n",
    "            ans=l\n",
    "        if ansflag==1:\n",
    "            break\n",
    "    if ansflag==1:\n",
    "        break\n",
    "\n",
    "ansflag=0\n",
    "ans=[]\n",
    "for i in range(1,10):\n",
    "    for k in range(0,10):\n",
    "        for h in range(0,2):\n",
    "            for j in range(1,10,2):\n",
    "                temp=[]\n",
    "                for x in digits:\n",
    "                    temp.append(int(str(i) + x + str(k) + x + str(h) + x + str(j))) ##ans=5181019\n",
    "                l = [x for x in temp if isprime(x)==True]\n",
    "                if len(l)==8:\n",
    "                    ansflag=1\n",
    "                    ans=l\n",
    "                if ansflag==1:\n",
    "                    break\n",
    "            if ansflag==1:\n",
    "                break\n",
    "        if ansflag==1:\n",
    "            break\n",
    "\n",
    "##inserting a digit k into ixxkxj\n",
    "ansflag=0\n",
    "ans=[]\n",
    "for i in range(1,10):\n",
    "    for j in range(1,10,2):\n",
    "        for k in range(0,10):\n",
    "            temp=[]\n",
    "            for x in digits:\n",
    "                #temp.append(int(str(i) + x + str(k) + x*2 + str(j))) ##ans=2090021\n",
    "                temp.append(int(str(i) + x*2 + str(k) + x + str(j))) ##ans =4004509\n",
    "            l = [x for x in temp if isprime(x)==True]\n",
    "            if len(l)==8:\n",
    "                ansflag=1\n",
    "                ans=l\n",
    "            if ansflag==1:\n",
    "                break\n",
    "        if ansflag==1:\n",
    "            break\n",
    "'''\n",
    "\n",
    "##considering ixxkxj and ixkxxj\n",
    "ansflag=0\n",
    "ans=[]\n",
    "for i in range(1,10):\n",
    "    for j in range(1,10,2):\n",
    "        for k in range(0,10):\n",
    "            temp=[]\n",
    "            for x in digits:\n",
    "                temp.append(int(x+ str(i)+ x + str(k) + x + str(j))) ##ans = 121313\n",
    "                #temp.append(int(str(i) + x + str(k) + x*2 + str(j))) ##ans = 2090021\n",
    "                #temp.append(int(str(i) + x*2 + str(k) + x + str(j))) ##ans =4004509\n",
    "            l = [x for x in temp if isprime(x)==True]\n",
    "            if len(l)==8:\n",
    "                ansflag=1\n",
    "                ans=l\n",
    "            if ansflag==1:\n",
    "                break\n",
    "        if ansflag==1:\n",
    "            break\n",
    "ans"
   ]
  },
  {
   "cell_type": "code",
   "execution_count": 172,
   "id": "c0d58a73",
   "metadata": {},
   "outputs": [
    {
     "data": {
      "text/plain": [
       "'\\nans.sort()\\nans\\n'"
      ]
     },
     "execution_count": 172,
     "metadata": {},
     "output_type": "execute_result"
    }
   ],
   "source": [
    "def flatten(t):\n",
    "    return [item for sublist in t for item in sublist]\n",
    "\n",
    "def most_common(lst):\n",
    "    return max(set(lst), key=lst.count)\n",
    "\n",
    "digits = ['0','1','2','3','4','5','6','7','8','9']\n",
    "digitsk = []\n",
    "primes = [x for x in range(10**5, 2*10**5) if isprime(x)==True]\n",
    "\n",
    "ans=[]\n",
    "for item in digits:\n",
    "    temp=[]\n",
    "    for x in primes:\n",
    "        x = str(x)\n",
    "        if x[1:].count(item)==3:\n",
    "            temp.append(x)\n",
    "            ##catch the primes with dmk\n",
    "            if('1' == x[0] and '8' in x and '7' in x[x.index('8'):]):\n",
    "                ans.append(x)\n",
    "    digitsk.append(temp)\n",
    "\n",
    "digitsminusk=[]\n",
    "for i in range(10):\n",
    "    temp=[]\n",
    "    for x in digitsk[i]:\n",
    "        x = str(x)\n",
    "        x = x[0] + x[1:].replace(digits[i], '')\n",
    "        temp.append(x)\n",
    "    digitsminusk.append(list(set(temp)))\n",
    "\n",
    "\n",
    "dmk = most_common(flatten(digitsminusk))\n",
    "flatten(digitsminusk).count(dmk)\n",
    "'''\n",
    "ans.sort()\n",
    "ans\n",
    "'''\n"
   ]
  },
  {
   "cell_type": "markdown",
   "id": "a9a01c61",
   "metadata": {},
   "source": [
    "Below approach considers the below as a solution, but this is of the form *1*9*, but maybe the problem is restricted to primes of the form 1*9*? Fixed first digit?\n",
    "[10009, 22129, 13339, 14449, 15559, 66169, 17977, 88819]"
   ]
  },
  {
   "cell_type": "code",
   "execution_count": 88,
   "id": "0412e5b6",
   "metadata": {},
   "outputs": [
    {
     "data": {
      "text/plain": [
       "[True, True, True, True, True, True, True, True]"
      ]
     },
     "execution_count": 88,
     "metadata": {},
     "output_type": "execute_result"
    }
   ],
   "source": [
    "q = [10099, 13339,14449,15559,17977,22129,66169,88819]\n",
    "[isprime(x) for x in q]"
   ]
  },
  {
   "cell_type": "code",
   "execution_count": 92,
   "id": "669a24fe",
   "metadata": {},
   "outputs": [
    {
     "data": {
      "text/plain": [
       "'\\nans.sort()\\nans\\n'"
      ]
     },
     "execution_count": 92,
     "metadata": {},
     "output_type": "execute_result"
    }
   ],
   "source": [
    "def flatten(t):\n",
    "    return [item for sublist in t for item in sublist]\n",
    "\n",
    "def most_common(lst):\n",
    "    return max(set(lst), key=lst.count)\n",
    "\n",
    "digits = ['0','1','2','3','4','5','6','7','8','9']\n",
    "digitsk = []\n",
    "primes = [x for x in range(10000,99999) if isprime(x)==True]\n",
    "\n",
    "ans=[]\n",
    "for item in digits:\n",
    "    temp=[]\n",
    "    for x in primes:\n",
    "        if str(x).count(item)==3:\n",
    "            temp.append(x)\n",
    "            if('1' in str(x) and '9' in str(x)):\n",
    "                ans.append(x)\n",
    "    digitsk.append(temp)\n",
    "\n",
    "digitsminusk=[]\n",
    "for i in range(10):\n",
    "    temp=[]\n",
    "    for x in digitsk[i]:\n",
    "        x = str(x)\n",
    "        x = x.replace(digits[i], '')\n",
    "        temp.append(x)\n",
    "    digitsminusk.append(list(set(temp)))\n",
    "\n",
    "\n",
    "dmk = most_common(flatten(digitsminusk))\n",
    "flatten(digitsminusk).count(dmk)\n",
    "'''\n",
    "ans.sort()\n",
    "ans\n",
    "'''\n"
   ]
  },
  {
   "cell_type": "code",
   "execution_count": 2,
   "id": "97995fee",
   "metadata": {},
   "outputs": [
    {
     "data": {
      "text/plain": [
       "1061"
      ]
     },
     "execution_count": 2,
     "metadata": {},
     "output_type": "execute_result"
    }
   ],
   "source": [
    "##isPrimeQ, isPrime\n",
    "import math\n",
    "def isprime(num:int) -> bool:\n",
    "    a=2\n",
    "    while a<=math.sqrt(num):\n",
    "        if num%a<1:\n",
    "            return False\n",
    "        a=a+1\n",
    "    return num>1\n",
    "\n",
    "primes = [x for x in range(1000,9999) if isprime(x)==True]\n",
    "len(primes)"
   ]
  },
  {
   "cell_type": "code",
   "execution_count": 15,
   "id": "5596d12f",
   "metadata": {},
   "outputs": [],
   "source": [
    "import itertools as it\n",
    "\n",
    "def listtostr(l:list)-> str:\n",
    "    ans=\"\"\n",
    "    for x in l:\n",
    "        ans+=x\n",
    "    return ans\n",
    "\n",
    "p='1234567890'\n",
    "q='222'\n",
    "k=1\n",
    "binlist = [listtostr(l) for l in list(it.product(p,q,repeat=k))]"
   ]
  },
  {
   "cell_type": "code",
   "execution_count": null,
   "id": "82625197",
   "metadata": {},
   "outputs": [],
   "source": []
  }
 ],
 "metadata": {
  "kernelspec": {
   "display_name": "Python 3 (ipykernel)",
   "language": "python",
   "name": "python3"
  },
  "language_info": {
   "codemirror_mode": {
    "name": "ipython",
    "version": 3
   },
   "file_extension": ".py",
   "mimetype": "text/x-python",
   "name": "python",
   "nbconvert_exporter": "python",
   "pygments_lexer": "ipython3",
   "version": "3.9.12"
  }
 },
 "nbformat": 4,
 "nbformat_minor": 5
}
