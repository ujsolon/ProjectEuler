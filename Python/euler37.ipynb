{
 "cells": [
  {
   "cell_type": "code",
   "execution_count": 66,
   "id": "03186392",
   "metadata": {},
   "outputs": [],
   "source": [
    "import math\n",
    "def isprime(num:int) -> bool:\n",
    "    a=2\n",
    "    while a<=math.sqrt(num):\n",
    "        if num%a<1:\n",
    "            return False\n",
    "        a=a+1\n",
    "    return num>1\n",
    "\n",
    "def lefttrunc(x:int)-> bool:\n",
    "    s=str(x)\n",
    "    for truncloc in range(1,len(s)):\n",
    "        if not isprime(int(s[truncloc:])):\n",
    "            return False\n",
    "    return True\n",
    "\n",
    "def righttrunc(x:int)-> bool:\n",
    "    s=str(x)\n",
    "    for truncloc in range(1,len(s)):                  \n",
    "        if not isprime(int(s[:truncloc])):\n",
    "            return False\n",
    "    return True\n",
    "\n",
    "\n",
    "ans=[]\n",
    "primes = [x for x in range(11,10**6) if isprime(x)==True]\n",
    "i=0\n",
    "while len(ans)<11:\n",
    "    if lefttrunc(primes[i])==True and righttrunc(primes[i])==True:\n",
    "        ans.append(primes[i])\n",
    "    i+=1\n",
    "    \n",
    "    "
   ]
  },
  {
   "cell_type": "code",
   "execution_count": 68,
   "id": "83453cbb",
   "metadata": {},
   "outputs": [
    {
     "data": {
      "text/plain": [
       "11"
      ]
     },
     "execution_count": 68,
     "metadata": {},
     "output_type": "execute_result"
    }
   ],
   "source": [
    "len(ans)"
   ]
  },
  {
   "cell_type": "code",
   "execution_count": 28,
   "id": "717d6ece",
   "metadata": {},
   "outputs": [
    {
     "name": "stdout",
     "output_type": "stream",
     "text": [
      "234\n",
      "34\n",
      "4\n",
      "1\n",
      "12\n",
      "123\n"
     ]
    }
   ],
   "source": [
    "s='1234'\n",
    "\n",
    "print(s[1:])\n",
    "print(s[2:])\n",
    "print(s[len(s)-1:])\n",
    "\n",
    "print(s[:1])\n",
    "print(s[:2])\n",
    "print(s[:len(s)-1])\n"
   ]
  },
  {
   "cell_type": "code",
   "execution_count": null,
   "id": "006fa041",
   "metadata": {},
   "outputs": [],
   "source": []
  }
 ],
 "metadata": {
  "kernelspec": {
   "display_name": "Python 3 (ipykernel)",
   "language": "python",
   "name": "python3"
  },
  "language_info": {
   "codemirror_mode": {
    "name": "ipython",
    "version": 3
   },
   "file_extension": ".py",
   "mimetype": "text/x-python",
   "name": "python",
   "nbconvert_exporter": "python",
   "pygments_lexer": "ipython3",
   "version": "3.9.12"
  }
 },
 "nbformat": 4,
 "nbformat_minor": 5
}
