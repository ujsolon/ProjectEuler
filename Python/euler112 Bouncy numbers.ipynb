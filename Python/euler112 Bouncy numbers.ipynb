{
 "cells": [
  {
   "cell_type": "code",
   "execution_count": 57,
   "id": "e2a5b21e",
   "metadata": {},
   "outputs": [
    {
     "data": {
      "text/plain": [
       "0.9899993635385743"
      ]
     },
     "execution_count": 57,
     "metadata": {},
     "output_type": "execute_result"
    }
   ],
   "source": [
    "1587001\n",
    "1587000"
   ]
  },
  {
   "cell_type": "code",
   "execution_count": 63,
   "id": "d17ddda1",
   "metadata": {},
   "outputs": [
    {
     "data": {
      "text/plain": [
       "1587000"
      ]
     },
     "execution_count": 63,
     "metadata": {},
     "output_type": "execute_result"
    }
   ],
   "source": [
    "def digits(x:int):\n",
    "    return [int(item) for item in list(str(x))]\n",
    "\n",
    "bouncylist=[]\n",
    "for num in range(100,10**7):\n",
    "    digitsnum = digits(num)\n",
    "    if sorted(digitsnum)==digitsnum:\n",
    "        continue\n",
    "    if sorted(digitsnum, reverse=True)==digitsnum:\n",
    "        continue\n",
    "    bouncylist.append(num)\n",
    "    if len(bouncylist)/num==0.99:\n",
    "        break\n",
    "    \n",
    "bouncylist[-1]"
   ]
  },
  {
   "cell_type": "code",
   "execution_count": 25,
   "id": "2be64bf7",
   "metadata": {},
   "outputs": [
    {
     "name": "stdout",
     "output_type": "stream",
     "text": [
      "non-dec non-inc\n"
     ]
    }
   ],
   "source": [
    "num=123809\n",
    "digitsnum = digits(num)\n",
    "if 0 in digitsnum:\n",
    "    print('non-dec non-inc')\n",
    "if sorted(digitsnum)==digitsnum:\n",
    "    print('inc')\n",
    "if sorted(digitsnum, reverse=True)==digitsnum:\n",
    "    print('dec')\n"
   ]
  },
  {
   "cell_type": "code",
   "execution_count": 14,
   "id": "239f40b3",
   "metadata": {},
   "outputs": [
    {
     "data": {
      "text/plain": [
       "[1, 3, 2]"
      ]
     },
     "execution_count": 14,
     "metadata": {},
     "output_type": "execute_result"
    }
   ],
   "source": [
    "def digits(x:int):\n",
    "    return [int(item) for item in list(str(x))]\n",
    "\n",
    "num=132\n",
    "digits(num)"
   ]
  }
 ],
 "metadata": {
  "kernelspec": {
   "display_name": "Python 3 (ipykernel)",
   "language": "python",
   "name": "python3"
  },
  "language_info": {
   "codemirror_mode": {
    "name": "ipython",
    "version": 3
   },
   "file_extension": ".py",
   "mimetype": "text/x-python",
   "name": "python",
   "nbconvert_exporter": "python",
   "pygments_lexer": "ipython3",
   "version": "3.9.12"
  }
 },
 "nbformat": 4,
 "nbformat_minor": 5
}
