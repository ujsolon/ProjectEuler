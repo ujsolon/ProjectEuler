{
 "cells": [
  {
   "cell_type": "code",
   "execution_count": 9,
   "id": "79a0530f",
   "metadata": {},
   "outputs": [],
   "source": [
    "import itertools as it\n",
    "digits=[0,1,2,3,4,5,6,7,8,9]\n",
    "numdigits = it.combinations_with_replacement(digits,2)\n",
    "numdigits0 = [x for x in numdigits if x[0]!=0]\n",
    "num = [x[0]*10 + x[1] for x in numdigits0]\n",
    "\n",
    "##wtf am i doing"
   ]
  },
  {
   "cell_type": "code",
   "execution_count": 21,
   "id": "2e0b1723",
   "metadata": {},
   "outputs": [
    {
     "data": {
      "text/plain": [
       "[(15, 24), (18, 45), (16, 64), (26, 65), (19, 95), (49, 98)]"
      ]
     },
     "execution_count": 21,
     "metadata": {},
     "output_type": "execute_result"
    }
   ],
   "source": [
    "ans=[]\n",
    "for y in range(10,100):\n",
    "    for x in range(10,y):\n",
    "        quotient = x/y\n",
    "        if (y%10)*(y-y%10)!=0 and quotient==(x%10)*(x-x%10)/(y%10)/(y-y%10):\n",
    "            ans.append((x,y))\n",
    "            \n",
    "ans"
   ]
  },
  {
   "cell_type": "code",
   "execution_count": 23,
   "id": "aa2ef916",
   "metadata": {},
   "outputs": [
    {
     "data": {
      "text/plain": [
       "0.01"
      ]
     },
     "execution_count": 23,
     "metadata": {},
     "output_type": "execute_result"
    }
   ],
   "source": [
    "#ANSWER\n",
    "16/64*26/65*19/95*49/98"
   ]
  },
  {
   "cell_type": "code",
   "execution_count": null,
   "id": "cb5f5a99",
   "metadata": {},
   "outputs": [],
   "source": []
  }
 ],
 "metadata": {
  "kernelspec": {
   "display_name": "Python 3 (ipykernel)",
   "language": "python",
   "name": "python3"
  },
  "language_info": {
   "codemirror_mode": {
    "name": "ipython",
    "version": 3
   },
   "file_extension": ".py",
   "mimetype": "text/x-python",
   "name": "python",
   "nbconvert_exporter": "python",
   "pygments_lexer": "ipython3",
   "version": "3.9.12"
  }
 },
 "nbformat": 4,
 "nbformat_minor": 5
}
