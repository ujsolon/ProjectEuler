{
 "cells": [
  {
   "cell_type": "code",
   "execution_count": null,
   "id": "f851901c",
   "metadata": {},
   "outputs": [],
   "source": [
    "https://www.educative.io/edpresso/how-to-solve-project-euler-99"
   ]
  },
  {
   "cell_type": "code",
   "execution_count": 2,
   "id": "536143fd",
   "metadata": {},
   "outputs": [
    {
     "name": "stdout",
     "output_type": "stream",
     "text": [
      "709\n"
     ]
    }
   ],
   "source": [
    "from math import log\n",
    "\n",
    "with open('p099_base_exp.txt','r') as FILE: \n",
    "    cnt=1\n",
    "    maxValue=0\n",
    "    maxIndex=0\n",
    "    \n",
    "    while (cnt<=1000):\n",
    "        base,exponent = list(map(int,FILE.readline().split(',')))\n",
    "        value = exponent*log(base)\n",
    "        \n",
    "        if maxValue<value:\n",
    "            maxValue = value\n",
    "            maxIndex = cnt\n",
    "        \n",
    "        cnt+=1\n",
    "\n",
    "\n",
    "print(maxIndex)"
   ]
  },
  {
   "cell_type": "code",
   "execution_count": null,
   "id": "5bb5396e",
   "metadata": {},
   "outputs": [],
   "source": []
  }
 ],
 "metadata": {
  "kernelspec": {
   "display_name": "Python 3 (ipykernel)",
   "language": "python",
   "name": "python3"
  },
  "language_info": {
   "codemirror_mode": {
    "name": "ipython",
    "version": 3
   },
   "file_extension": ".py",
   "mimetype": "text/x-python",
   "name": "python",
   "nbconvert_exporter": "python",
   "pygments_lexer": "ipython3",
   "version": "3.9.12"
  }
 },
 "nbformat": 4,
 "nbformat_minor": 5
}
