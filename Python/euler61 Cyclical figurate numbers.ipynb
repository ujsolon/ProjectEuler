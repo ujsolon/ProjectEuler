{
 "cells": [
  {
   "cell_type": "code",
   "execution_count": 152,
   "id": "78608dc2",
   "metadata": {},
   "outputs": [
    {
     "name": "stdout",
     "output_type": "stream",
     "text": [
      "[[8256, 5625, 2512, 1281, 8128, 2882], [5625, 2512, 1281, 8128, 2882, 8256], [2882, 8256, 5625, 2512, 1281, 8128], [8128, 2882, 8256, 5625, 2512, 1281], [2512, 1281, 8128, 2882, 8256, 5625], [1281, 8128, 2882, 8256, 5625, 2512]]\n"
     ]
    },
    {
     "data": {
      "text/plain": [
       "28684"
      ]
     },
     "execution_count": 152,
     "metadata": {},
     "output_type": "execute_result"
    }
   ],
   "source": [
    "##set n range, upper and lower limits\n",
    "lowerlim = 10**3\n",
    "upperlim = 10**4\n",
    "\n",
    "alltri = [int(n*(n+1)/2) for n in range(1,150)]\n",
    "alltri = [x for x in alltri if lowerlim < x]\n",
    "alltri = [x for x in alltri if x < upperlim]\n",
    "\n",
    "allsqu = [n**2 for n in range(1,150)]\n",
    "allsqu = [x for x in allsqu if lowerlim < x]\n",
    "allsqu = [x for x in allsqu if x < upperlim]\n",
    "\n",
    "allpen = [int(n*(3*n-1)/2) for n in range(1,150)]\n",
    "allpen = [x for x in allpen if lowerlim < x]\n",
    "allpen = [x for x in allpen if x < upperlim]\n",
    "\n",
    "allhex = [n*(2*n-1) for n in range(1,150)]\n",
    "allhex = [x for x in allhex if lowerlim < x]\n",
    "allhex = [x for x in allhex if x < upperlim]\n",
    "\n",
    "allhep = [int(n*(5*n-3)/2) for n in range(1,150)]\n",
    "allhep = [x for x in allhep if lowerlim < x]\n",
    "allhep = [x for x in allhep if x < upperlim]\n",
    "\n",
    "alloct = [n*(3*n-2) for n in range(1,150)]\n",
    "alloct = [x for x in alloct if lowerlim < x]\n",
    "alloct = [x for x in alloct if x < upperlim]\n",
    "\n",
    "ans=[]\n",
    "figurates=[alltri, allsqu, allpen, allhex, allhep, alloct]\n",
    "for permu in list(it.permutations(range(1,7))):\n",
    "    for x in figurates[permu[0]-1]:\n",
    "        for y in figurates[permu[1]-1]:\n",
    "            if not (xcylicy(x,y)):\n",
    "                continue\n",
    "            for z in figurates[permu[2]-1]:\n",
    "                if not (xcylicy(y,z)):\n",
    "                    continue\n",
    "                for a in figurates[permu[3]-1]:\n",
    "                    if not (xcylicy(z,a)):\n",
    "                        continue\n",
    "                    for b in figurates[permu[4]-1]:\n",
    "                        if not (xcylicy(a,b)):\n",
    "                            continue\n",
    "                        for c in figurates[permu[5]-1]:\n",
    "                            if not (xcylicy(b,c)):\n",
    "                                continue\n",
    "                            if not (xcylicy(c,x)):\n",
    "                                continue\n",
    "                            ans.append([x,y,z,a,b,c])\n",
    "                            if(len(ans)>0):\n",
    "                                break\n",
    "print(ans)\n",
    "sum(ans[0])"
   ]
  },
  {
   "cell_type": "code",
   "execution_count": 2,
   "id": "d9d3cfa1",
   "metadata": {},
   "outputs": [
    {
     "ename": "IndentationError",
     "evalue": "expected an indented block (Temp/ipykernel_15588/1879572955.py, line 4)",
     "output_type": "error",
     "traceback": [
      "\u001b[1;36m  File \u001b[1;32m\"C:\\Users\\Solon\\AppData\\Local\\Temp/ipykernel_15588/1879572955.py\"\u001b[1;36m, line \u001b[1;32m4\u001b[0m\n\u001b[1;33m    #print(permu)\u001b[0m\n\u001b[1;37m                 ^\u001b[0m\n\u001b[1;31mIndentationError\u001b[0m\u001b[1;31m:\u001b[0m expected an indented block\n"
     ]
    }
   ],
   "source": [
    "import itertools as it\n",
    "figurates=[alltri, allsqu, allpen, allhex, allhep, alloct]\n",
    "for permu in list(it.permutations(range(1,7))):\n",
    "    #print(permu)"
   ]
  },
  {
   "cell_type": "code",
   "execution_count": 97,
   "id": "f5f9e811",
   "metadata": {},
   "outputs": [
    {
     "data": {
      "text/plain": [
       "11881"
      ]
     },
     "execution_count": 97,
     "metadata": {},
     "output_type": "execute_result"
    }
   ],
   "source": [
    "alltri = [n*(n+1)/2 for n in range(1,150)]\n",
    "alltri[-1]\n",
    "allsqu = [n**2 for n in range(1,110)]\n",
    "allsqu[-1]"
   ]
  },
  {
   "cell_type": "code",
   "execution_count": 112,
   "id": "99dd7941",
   "metadata": {},
   "outputs": [
    {
     "data": {
      "text/plain": [
       "[8400]"
      ]
     },
     "execution_count": 112,
     "metadata": {},
     "output_type": "execute_result"
    }
   ],
   "source": [
    "##set n range, upper and lower limits\n",
    "lowerlim = 10**3\n",
    "upperlim = 10**4\n",
    "\n",
    "alltri = [int(n*(n+1)/2) for n in range(1,150)]\n",
    "alltri = [x for x in alltri if lowerlim < x]\n",
    "alltri = [x for x in alltri if x < upperlim]\n",
    "\n",
    "allsqu = [n**2 for n in range(1,150)]\n",
    "allsqu = [x for x in allsqu if lowerlim < x]\n",
    "allsqu = [x for x in allsqu if x < upperlim]\n",
    "\n",
    "allpen = [int(n*(3*n-1)/2) for n in range(1,150)]\n",
    "allpen = [x for x in allpen if lowerlim < x]\n",
    "allpen = [x for x in allpen if x < upperlim]\n",
    "\n",
    "allhex = [n*(2*n-1) for n in range(1,150)]\n",
    "allhex = [x for x in allhex if lowerlim < x]\n",
    "allhex = [x for x in allhex if x < upperlim]\n",
    "\n",
    "allhep = [int(n*(5*n-3)/2) for n in range(1,150)]\n",
    "allhep = [x for x in allhep if lowerlim < x]\n",
    "allhep = [x for x in allhep if x < upperlim]\n",
    "\n",
    "alloct = [n*(3*n-2) for n in range(1,150)]\n",
    "alloct = [x for x in alloct if lowerlim < x]\n",
    "alloct = [x for x in alloct if x < upperlim]\n",
    "\n",
    "mylistold=[]\n",
    "mylistnew=[]\n",
    "for x in allhex:\n",
    "    #print(x)\n",
    "    for y in allhep:\n",
    "        #print(y)\n",
    "        if(xcylicy(x,y)):\n",
    "            mylistold.append(y)\n",
    "mylistnew=mylistold\n",
    "mylistold=[]\n",
    "for x in mylistnew:\n",
    "    #print(x)\n",
    "    for y in alloct:\n",
    "        #print(y)\n",
    "        if(xcylicy(x,y)):\n",
    "            mylistold.append(y)\n",
    "mylistnew=mylistold\n",
    "mylistold=[]\n",
    "for x in mylistnew:\n",
    "    #print(x)\n",
    "    for y in alltri:\n",
    "        #print(y)\n",
    "        if(xcylicy(x,y)):\n",
    "            mylistold.append(y)\n",
    "\n",
    "mylistnew=mylistold\n",
    "mylistold=[]\n",
    "for x in mylistnew:\n",
    "    #print(x)\n",
    "    for y in allsqu:\n",
    "        #print(y)\n",
    "        if(xcylicy(x,y)):\n",
    "            mylistold.append(y)\n",
    "mylistnew=mylistold\n",
    "mylistold=[]\n",
    "for x in mylistnew:\n",
    "    #print(x)\n",
    "    for y in allpen:\n",
    "        #print(y)\n",
    "        if(xcylicy(x,y)):\n",
    "            mylistold.append(y)\n",
    "mylistold"
   ]
  },
  {
   "cell_type": "code",
   "execution_count": 57,
   "id": "857ed6cc",
   "metadata": {},
   "outputs": [
    {
     "data": {
      "text/plain": [
       "False"
      ]
     },
     "execution_count": 57,
     "metadata": {},
     "output_type": "execute_result"
    }
   ],
   "source": [
    "##check if two numbers are cyclic\n",
    "def xcylicy(x:int, y:int)->bool:\n",
    "    tempx=digits(x)\n",
    "    tempy=digits(y)\n",
    "    return([tempx[-2],tempx[-1]]==[tempy[0],tempy[1]])\n",
    "xcylicy(8128,2882)\n",
    "xcylicy(2882,8281)\n",
    "xcylicy(2882,2882)"
   ]
  },
  {
   "cell_type": "code",
   "execution_count": null,
   "id": "f3e39391",
   "metadata": {},
   "outputs": [],
   "source": [
    "Triangular, Square, Pentagonal, Hexical, Heptagonal, Octagonal\n",
    "isTriangular, isSquare, isPentagonal, isHexical, isHeptagonal, isOctagonal\n",
    "isTriangularQ, isSquareQ, isPentagonalQ, isHexicalQ, isHeptagonalQ, isOctagonalQ"
   ]
  },
  {
   "cell_type": "code",
   "execution_count": 18,
   "id": "ab232bb2",
   "metadata": {},
   "outputs": [],
   "source": [
    "import math \n",
    "def isTri(n):\n",
    "    temp = (math.sqrt(8*n+1)-1)/2\n",
    "    return temp-int(temp)==0\n",
    "def isSqu(n):\n",
    "    temp = math.sqrt(n)\n",
    "    return temp-int(temp)==0\n",
    "def isPen(n):\n",
    "    temp = (math.sqrt(24*n+1)+1)/6\n",
    "    return temp-int(temp)==0\n",
    "def isHex(n):\n",
    "    temp = (math.sqrt(8*n+1)+1)/4\n",
    "    return temp-int(temp)==0\n",
    "def isHep(n):\n",
    "    temp = (math.sqrt(40*n+9)+3)/10\n",
    "    return temp-int(temp)==0\n",
    "def isOct(n):\n",
    "    temp = (math.sqrt(3*n+1)+1)/3\n",
    "    return temp-int(temp)==0\n",
    "\n",
    "\n",
    "myrange = list(range(1,10**4))\n",
    "for i in myrange:\n",
    "    if isTri(i):\n",
    "        if is"
   ]
  },
  {
   "cell_type": "code",
   "execution_count": 21,
   "id": "0f0f70a1",
   "metadata": {},
   "outputs": [],
   "source": [
    "def digits(x:int)->list[int]:\n",
    "    return [int(item) for item in list(str(x))]\n",
    "\n",
    "def listTOint(l):\n",
    "    s = [str(integer) for integer in l]\n",
    "    a_string = \"\".join(s)\n",
    "    res = int(a_string)\n",
    "    return res"
   ]
  }
 ],
 "metadata": {
  "kernelspec": {
   "display_name": "Python 3 (ipykernel)",
   "language": "python",
   "name": "python3"
  },
  "language_info": {
   "codemirror_mode": {
    "name": "ipython",
    "version": 3
   },
   "file_extension": ".py",
   "mimetype": "text/x-python",
   "name": "python",
   "nbconvert_exporter": "python",
   "pygments_lexer": "ipython3",
   "version": "3.9.12"
  }
 },
 "nbformat": 4,
 "nbformat_minor": 5
}
