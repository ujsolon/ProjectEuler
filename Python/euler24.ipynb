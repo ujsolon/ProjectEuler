{
 "cells": [
  {
   "cell_type": "code",
   "execution_count": 18,
   "id": "9898ee16",
   "metadata": {},
   "outputs": [
    {
     "data": {
      "text/plain": [
       "(2, 7, 8, 3, 9, 1, 5, 6, 4, 0)"
      ]
     },
     "execution_count": 18,
     "metadata": {},
     "output_type": "execute_result"
    }
   ],
   "source": [
    "import itertools as it\n",
    "\n",
    "digits = [0,1,2,3,4,5,6,7,8,9]\n",
    "a=list(it.permutations(digits))\n",
    "a.sort()\n",
    "a[10**6+1]"
   ]
  },
  {
   "cell_type": "code",
   "execution_count": 16,
   "id": "ac2ef113",
   "metadata": {},
   "outputs": [
    {
     "data": {
      "text/plain": [
       "True"
      ]
     },
     "execution_count": 16,
     "metadata": {},
     "output_type": "execute_result"
    }
   ],
   "source": [
    "10**6==1000000"
   ]
  },
  {
   "cell_type": "code",
   "execution_count": null,
   "id": "bfb4b16c",
   "metadata": {},
   "outputs": [],
   "source": [
    "(2, 7, 8, 3, 9, 1, 5, 4, 6, 0)"
   ]
  }
 ],
 "metadata": {
  "kernelspec": {
   "display_name": "Python 3 (ipykernel)",
   "language": "python",
   "name": "python3"
  },
  "language_info": {
   "codemirror_mode": {
    "name": "ipython",
    "version": 3
   },
   "file_extension": ".py",
   "mimetype": "text/x-python",
   "name": "python",
   "nbconvert_exporter": "python",
   "pygments_lexer": "ipython3",
   "version": "3.9.12"
  }
 },
 "nbformat": 4,
 "nbformat_minor": 5
}
