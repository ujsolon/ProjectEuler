{
 "cells": [
  {
   "cell_type": "code",
   "execution_count": 119,
   "id": "d3c6d833",
   "metadata": {},
   "outputs": [
    {
     "data": {
      "text/plain": [
       "[3, 4, 5]"
      ]
     },
     "execution_count": 119,
     "metadata": {},
     "output_type": "execute_result"
    }
   ],
   "source": [
    "digits[2:5]"
   ]
  },
  {
   "cell_type": "code",
   "execution_count": 140,
   "id": "43d3418d",
   "metadata": {},
   "outputs": [
    {
     "name": "stdout",
     "output_type": "stream",
     "text": [
      "16\n",
      "97936\n",
      "[5796, 5796, 4396, 7632, 5346, 7254, 5346, 5346, 4396, 5346, 7254, 6952, 7852, 5796, 7632, 5796]\n"
     ]
    },
    {
     "data": {
      "text/plain": [
       "45228"
      ]
     },
     "execution_count": 140,
     "metadata": {},
     "output_type": "execute_result"
    }
   ],
   "source": [
    "import itertools as it\n",
    "\n",
    "def pancheck(x):\n",
    "    #if listTOint(x[0:1])*listTOint(x[1:2]) == listTOint(x[2:10]):\n",
    "    #    return True\n",
    "    #if listTOint(x[0:1])*listTOint(x[1:3]) == listTOint(x[3:10]):\n",
    "    #    return True\n",
    "    #if listTOint(x[0:1])*listTOint(x[1:4]) == listTOint(x[4:10]):\n",
    "    #    return True\n",
    "    if listTOint(x[0:1])*listTOint(x[1:5]) == listTOint(x[5:10]):\n",
    "        return True\n",
    "    #if listTOint(x[0:1])*listTOint(x[1:6]) == listTOint(x[6:10]):\n",
    "    #    return True\n",
    "    #if listTOint(x[0:1])*listTOint(x[1:7]) == listTOint(x[7:10]):\n",
    "    #    return True\n",
    "    #if listTOint(x[0:1])*listTOint(x[1:8]) == listTOint(x[8:10]):\n",
    "    #    return True\n",
    "    #if listTOint(x[0:2])*listTOint(x[2:3]) == listTOint(x[3:10]):\n",
    "    #    return True\n",
    "    #if listTOint(x[0:2])*listTOint(x[2:4]) == listTOint(x[4:10]):\n",
    "    #    return True\n",
    "    if listTOint(x[0:2])*listTOint(x[2:5]) == listTOint(x[5:10]):\n",
    "        return True\n",
    "    #if listTOint(x[0:2])*listTOint(x[2:6]) == listTOint(x[6:10]):\n",
    "    #    return True\n",
    "    #if listTOint(x[0:2])*listTOint(x[2:7]) == listTOint(x[7:10]):\n",
    "    #    return True\n",
    "    #if listTOint(x[0:2])*listTOint(x[2:8]) == listTOint(x[8:10]):\n",
    "    #    return True\n",
    "    if listTOint(x[0:3])*listTOint(x[3:5]) == listTOint(x[5:10]):\n",
    "        return True\n",
    "    #if listTOint(x[0:3])*listTOint(x[3:6]) == listTOint(x[6:10]):\n",
    "    #    return True\n",
    "    #if listTOint(x[0:3])*listTOint(x[3:7]) == listTOint(x[7:10]):\n",
    "    #    return True\n",
    "    #if listTOint(x[0:4])*listTOint(x[4:6]) == listTOint(x[6:10]):\n",
    "    #    return True\n",
    "    #if listTOint(x[0:4])*listTOint(x[4:7]) == listTOint(x[7:10]):\n",
    "    #    return True\n",
    "    #if listTOint(x[0:5])*listTOint(x[5:7]) == listTOint(x[7:10]):\n",
    "    #    return True\n",
    "    \n",
    "\n",
    "\n",
    "def panproduct(x):\n",
    "    if listTOint(x[0:1])*listTOint(x[1:5]) == listTOint(x[5:10]):\n",
    "        return listTOint(x[5:10])\n",
    "    if listTOint(x[0:2])*listTOint(x[2:5]) == listTOint(x[5:10]):\n",
    "        return listTOint(x[5:10])\n",
    "    if listTOint(x[0:3])*listTOint(x[3:5]) == listTOint(x[5:10]):\n",
    "        return listTOint(x[5:10])\n",
    "\n",
    "    \n",
    "digits = [1,2,3,4,5,6,7,8,9]\n",
    "allperms = list(it.permutations(digits))\n",
    "pand = [x for x in allperms if pancheck(x)==True]\n",
    "pandprod = [panproduct(x) for x in pand]\n",
    "\n",
    "print(len(pandprod))\n",
    "print(sum(pandprod))\n",
    "print(pandprod) ##check for duplicates\n",
    "sum(set(pandprod))"
   ]
  },
  {
   "cell_type": "code",
   "execution_count": 46,
   "id": "50a0dc87",
   "metadata": {},
   "outputs": [
    {
     "name": "stdout",
     "output_type": "stream",
     "text": [
      "(1, 3, 2)\n",
      "132\n"
     ]
    },
    {
     "data": {
      "text/plain": [
       "True"
      ]
     },
     "execution_count": 46,
     "metadata": {},
     "output_type": "execute_result"
    }
   ],
   "source": [
    "digits = [1,2,3]\n",
    "x= list(it.permutations(digits))[1]\n",
    "print(x)\n",
    "s = [str(integer) for integer in x]\n",
    "a_string = \"\".join(s)\n",
    "res = int(a_string)\n",
    "print(res)\n",
    "\n",
    "def listTOint(l):\n",
    "    s = [str(integer) for integer in l]\n",
    "    a_string = \"\".join(s)\n",
    "    res = int(a_string)\n",
    "    return res\n",
    "\n",
    "x=(3,9,1,8,6,7,2,5,4)\n",
    "listTOint(x[0:2])*listTOint(x[2:5]) == listTOint(x[5:10]) "
   ]
  },
  {
   "cell_type": "code",
   "execution_count": 20,
   "id": "aa42027d",
   "metadata": {},
   "outputs": [
    {
     "data": {
      "text/plain": [
       "[0]"
      ]
     },
     "execution_count": 20,
     "metadata": {},
     "output_type": "execute_result"
    }
   ],
   "source": [
    "list(range(0,1))"
   ]
  },
  {
   "cell_type": "code",
   "execution_count": null,
   "id": "7179a2b7",
   "metadata": {},
   "outputs": [],
   "source": []
  }
 ],
 "metadata": {
  "kernelspec": {
   "display_name": "Python 3 (ipykernel)",
   "language": "python",
   "name": "python3"
  },
  "language_info": {
   "codemirror_mode": {
    "name": "ipython",
    "version": 3
   },
   "file_extension": ".py",
   "mimetype": "text/x-python",
   "name": "python",
   "nbconvert_exporter": "python",
   "pygments_lexer": "ipython3",
   "version": "3.9.12"
  }
 },
 "nbformat": 4,
 "nbformat_minor": 5
}
