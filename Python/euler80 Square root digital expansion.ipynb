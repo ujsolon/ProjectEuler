{
 "cells": [
  {
   "cell_type": "markdown",
   "id": "0fa4ea85",
   "metadata": {},
   "source": [
    "This one was solved, after hours of experimentation with Python's floating point precision.\n",
    "\n",
    "It was finally solved after recreating the digits sub routine and changing the understanding of the problem:\n",
    "sqrt(2) = 1.4142 -> the first 1 is included in the count, and the counting terminates when there are 100 digits\n",
    "(opposed to initial understading that the 'whole number' part is excluded)"
   ]
  },
  {
   "cell_type": "code",
   "execution_count": 184,
   "id": "b780fd42",
   "metadata": {},
   "outputs": [
    {
     "data": {
      "text/plain": [
       "475"
      ]
     },
     "execution_count": 184,
     "metadata": {},
     "output_type": "execute_result"
    }
   ],
   "source": [
    "n=2\n",
    "sum(digitsv2(Decimal(n).sqrt(),100))\n",
    "#print(math.sqrt(n))"
   ]
  },
  {
   "cell_type": "code",
   "execution_count": 185,
   "id": "e95bfa0f",
   "metadata": {},
   "outputs": [
    {
     "data": {
      "text/plain": [
       "40886"
      ]
     },
     "execution_count": 185,
     "metadata": {},
     "output_type": "execute_result"
    }
   ],
   "source": [
    "import math\n",
    "from decimal import *\n",
    "getcontext().prec = 200\n",
    "#getcontext().rounding = ROUND_DOWN\n",
    "#x = Decimal(2).sqrt()*10**100\n",
    "\n",
    "def digitsv2(x, figs):\n",
    "    ans=[]\n",
    "    while(len(ans)<figs):\n",
    "        ans.append(int(x))\n",
    "        x=(x-int(x))*10\n",
    "    return(ans)\n",
    "\n",
    "sqrs = [x**2 for x in range(10)]\n",
    "check = [x for x in range(1,100) if x not in sqrs]\n",
    "\n",
    "ans = 0\n",
    "for n in check:\n",
    "    ans+=sum(digitsv2(Decimal(n).sqrt(),100))\n",
    "ans"
   ]
  },
  {
   "cell_type": "code",
   "execution_count": 168,
   "id": "6213218b",
   "metadata": {},
   "outputs": [
    {
     "name": "stdout",
     "output_type": "stream",
     "text": [
      "482\n"
     ]
    },
    {
     "data": {
      "text/plain": [
       "Decimal('1.4142135623730950488016887242096980785696718753769480731766797379907324784621070388503875343276415727')"
      ]
     },
     "execution_count": 168,
     "metadata": {},
     "output_type": "execute_result"
    }
   ],
   "source": [
    "getcontext().prec = 101\n",
    "getcontext().rounding = ROUND_DOWN\n",
    "\n",
    "40308/len(check)\n",
    "n=2\n",
    "number = Decimal(n).sqrt()#-int(math.sqrt(n))\n",
    "print(sum(digits(int((number)*10**100))))\n",
    "number\n"
   ]
  },
  {
   "cell_type": "code",
   "execution_count": 47,
   "id": "7426c557",
   "metadata": {},
   "outputs": [],
   "source": [
    "0.414213562373095048801688724209698078569671875376948073176679737990732478462107038850387534327641573"
   ]
  },
  {
   "cell_type": "code",
   "execution_count": null,
   "id": "40d2117a",
   "metadata": {},
   "outputs": [],
   "source": [
    "0.41421356237309504880168872420969807856967187537694807317667973799073247846210703885038753432764157273501"
   ]
  },
  {
   "cell_type": "code",
   "execution_count": 151,
   "id": "aa6a246c",
   "metadata": {},
   "outputs": [
    {
     "data": {
      "text/plain": [
       "474"
      ]
     },
     "execution_count": 151,
     "metadata": {},
     "output_type": "execute_result"
    }
   ],
   "source": [
    "x=414213562373095048801688724209698078569671875376948073176679737990732478462107038850387534327641572\n",
    "sum(digits(x))"
   ]
  },
  {
   "cell_type": "code",
   "execution_count": 152,
   "id": "8f54ff87",
   "metadata": {},
   "outputs": [
    {
     "data": {
      "text/plain": [
       "9.9498743710662"
      ]
     },
     "execution_count": 152,
     "metadata": {},
     "output_type": "execute_result"
    }
   ],
   "source": [
    "math.sqrt(99)"
   ]
  },
  {
   "cell_type": "code",
   "execution_count": 159,
   "id": "3e7af121",
   "metadata": {},
   "outputs": [
    {
     "ename": "AttributeError",
     "evalue": "'decimal.Decimal' object has no attribute 'digit'",
     "output_type": "error",
     "traceback": [
      "\u001b[1;31m---------------------------------------------------------------------------\u001b[0m",
      "\u001b[1;31mAttributeError\u001b[0m                            Traceback (most recent call last)",
      "\u001b[1;32m~\\AppData\\Local\\Temp/ipykernel_8036/2697462924.py\u001b[0m in \u001b[0;36m<module>\u001b[1;34m\u001b[0m\n\u001b[1;32m----> 1\u001b[1;33m \u001b[0mDecimal\u001b[0m\u001b[1;33m(\u001b[0m\u001b[1;36m2\u001b[0m\u001b[1;33m)\u001b[0m\u001b[1;33m.\u001b[0m\u001b[0mdigit\u001b[0m\u001b[1;33m(\u001b[0m\u001b[1;33m)\u001b[0m\u001b[1;33m\u001b[0m\u001b[1;33m\u001b[0m\u001b[0m\n\u001b[0m",
      "\u001b[1;31mAttributeError\u001b[0m: 'decimal.Decimal' object has no attribute 'digit'"
     ]
    }
   ],
   "source": [
    "Decimal(2).digit()"
   ]
  },
  {
   "cell_type": "code",
   "execution_count": 165,
   "id": "85e23655",
   "metadata": {},
   "outputs": [
    {
     "data": {
      "text/plain": [
       "Decimal('0')"
      ]
     },
     "execution_count": 165,
     "metadata": {},
     "output_type": "execute_result"
    }
   ],
   "source": [
    "Decimal.shift(Decimal(2.),-100)"
   ]
  },
  {
   "cell_type": "code",
   "execution_count": null,
   "id": "46191dd4",
   "metadata": {},
   "outputs": [],
   "source": []
  }
 ],
 "metadata": {
  "kernelspec": {
   "display_name": "Python 3 (ipykernel)",
   "language": "python",
   "name": "python3"
  },
  "language_info": {
   "codemirror_mode": {
    "name": "ipython",
    "version": 3
   },
   "file_extension": ".py",
   "mimetype": "text/x-python",
   "name": "python",
   "nbconvert_exporter": "python",
   "pygments_lexer": "ipython3",
   "version": "3.9.12"
  }
 },
 "nbformat": 4,
 "nbformat_minor": 5
}
