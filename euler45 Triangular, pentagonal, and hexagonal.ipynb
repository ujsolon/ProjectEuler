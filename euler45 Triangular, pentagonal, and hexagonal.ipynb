{
 "cells": [
  {
   "cell_type": "code",
   "execution_count": 49,
   "id": "90e1e7db",
   "metadata": {},
   "outputs": [],
   "source": [
    "import math \n",
    "def isTri(n):\n",
    "    temp = math.sqrt(1+8*n)\n",
    "    return temp-int(temp)==0\n",
    "def isPen(n):\n",
    "    temp = (math.sqrt(1+24*n)+1)/6\n",
    "    return temp-int(temp)==0\n",
    "\n",
    "#allpen=[]\n",
    "#for i in range(1000):\n",
    "#    if isPen(i):\n",
    "#        allpen.append(i)\n",
    "\n",
    "allhex = [n*(2*n-1) for n in range(144,10**5)] ##set length of search\n",
    "ans=[]\n",
    "i=0\n",
    "while ans==[]:\n",
    "    if not isPen(allhex[i]):\n",
    "        i+=1\n",
    "        continue\n",
    "    if not isTri(allhex[i]):\n",
    "        i+=1\n",
    "        continue\n",
    "    ans.append(allhex[i])\n",
    "    "
   ]
  },
  {
   "cell_type": "code",
   "execution_count": 50,
   "id": "0015c5cf",
   "metadata": {},
   "outputs": [
    {
     "data": {
      "text/plain": [
       "[1533776805]"
      ]
     },
     "execution_count": 50,
     "metadata": {},
     "output_type": "execute_result"
    }
   ],
   "source": [
    "ans"
   ]
  },
  {
   "cell_type": "code",
   "execution_count": null,
   "id": "5841d272",
   "metadata": {},
   "outputs": [],
   "source": []
  }
 ],
 "metadata": {
  "kernelspec": {
   "display_name": "Python 3 (ipykernel)",
   "language": "python",
   "name": "python3"
  },
  "language_info": {
   "codemirror_mode": {
    "name": "ipython",
    "version": 3
   },
   "file_extension": ".py",
   "mimetype": "text/x-python",
   "name": "python",
   "nbconvert_exporter": "python",
   "pygments_lexer": "ipython3",
   "version": "3.9.12"
  }
 },
 "nbformat": 4,
 "nbformat_minor": 5
}
