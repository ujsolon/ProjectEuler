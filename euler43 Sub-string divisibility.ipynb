{
 "cells": [
  {
   "cell_type": "code",
   "execution_count": 16,
   "id": "c9909b5e",
   "metadata": {},
   "outputs": [],
   "source": [
    "import itertools as it\n",
    "\n",
    "def listTOint(l):\n",
    "    s = [str(integer) for integer in l]\n",
    "    a_string = \"\".join(s)\n",
    "    res = int(a_string)\n",
    "    return res\n",
    "\n",
    "digits = list(it.permutations('1406357289'))\n",
    "temp = [x for x in digits if x[0]!='0']\n",
    "digits = [str(listTOint(l)) for l in temp]"
   ]
  },
  {
   "cell_type": "code",
   "execution_count": 20,
   "id": "30c68aad",
   "metadata": {},
   "outputs": [
    {
     "name": "stdout",
     "output_type": "stream",
     "text": [
      "1406357289\n"
     ]
    }
   ],
   "source": [
    "x = digits[0]\n",
    "print(x)"
   ]
  },
  {
   "cell_type": "markdown",
   "id": "1da94051",
   "metadata": {},
   "source": [
    "Check divisibility by 17 first and immediately exit loop so that many i's would be eliminated\n",
    "Go and do the others"
   ]
  },
  {
   "cell_type": "code",
   "execution_count": 33,
   "id": "8600da97",
   "metadata": {},
   "outputs": [
    {
     "data": {
      "text/plain": [
       "16695334890"
      ]
     },
     "execution_count": 33,
     "metadata": {},
     "output_type": "execute_result"
    }
   ],
   "source": [
    "ans=[]\n",
    "for i in range(len(digits)):\n",
    "    x=digits[i]\n",
    "    if int(x[7:10])%17:\n",
    "        continue\n",
    "    if int(x[6:9])%13:\n",
    "        continue\n",
    "    if int(x[5:8])%11:\n",
    "        continue\n",
    "    if int(x[4:7])%7:\n",
    "        continue\n",
    "    if int(x[3:6])%5:\n",
    "        continue\n",
    "    if int(x[2:5])%3:\n",
    "        continue\n",
    "    if int(x[1:4])%2:\n",
    "        continue\n",
    "    ans.append(int(x))\n",
    "sum(ans)"
   ]
  },
  {
   "cell_type": "code",
   "execution_count": 25,
   "id": "6f722c64",
   "metadata": {},
   "outputs": [
    {
     "data": {
      "text/plain": [
       "289"
      ]
     },
     "execution_count": 25,
     "metadata": {},
     "output_type": "execute_result"
    }
   ],
   "source": [
    "x[1:4]\n",
    "int(x[7:10])"
   ]
  }
 ],
 "metadata": {
  "kernelspec": {
   "display_name": "Python 3 (ipykernel)",
   "language": "python",
   "name": "python3"
  },
  "language_info": {
   "codemirror_mode": {
    "name": "ipython",
    "version": 3
   },
   "file_extension": ".py",
   "mimetype": "text/x-python",
   "name": "python",
   "nbconvert_exporter": "python",
   "pygments_lexer": "ipython3",
   "version": "3.9.12"
  }
 },
 "nbformat": 4,
 "nbformat_minor": 5
}
