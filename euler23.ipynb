{
 "cells": [
  {
   "cell_type": "code",
   "execution_count": 51,
   "id": "399edea4",
   "metadata": {
    "scrolled": true
   },
   "outputs": [],
   "source": [
    "def get_proper_divisors(n):\n",
    "    for i in range(1, int(n / 2) + 1):\n",
    "        if n % i == 0:\n",
    "            yield i\n",
    "def sum_divisors(n):\n",
    "    return sum(list(get_proper_divisors(n)))\n",
    "def summable(n, l):\n",
    "    for v in l:\n",
    "        l_no_v = l[:]\n",
    "        l_no_v.remove(v)\n",
    "        if n - v in l_no_v:\n",
    "            return True\n",
    "    return False\n",
    "\n",
    "abundant =[]\n",
    "for i in range(1, 28123):\n",
    "    if i<sum_divisors(i):\n",
    "        abundant.append(i)\n",
    "abundant\n",
    "\n",
    "abundantsum=[x+y for x in abundant for y in abundant]\n",
    "abundantsum = list(set(abundantsum))"
   ]
  },
  {
   "cell_type": "code",
   "execution_count": 56,
   "id": "2ee9609e",
   "metadata": {},
   "outputs": [
    {
     "data": {
      "text/plain": [
       "4179871"
      ]
     },
     "execution_count": 56,
     "metadata": {},
     "output_type": "execute_result"
    }
   ],
   "source": [
    "nonabundantsum = list(range(1,28123))\n",
    "for x in abundantsum:\n",
    "    if x in nonabundantsum:\n",
    "        nonabundantsum.remove(x)\n",
    "sum(nonabundantsum)"
   ]
  },
  {
   "cell_type": "code",
   "execution_count": null,
   "id": "ec99ba92",
   "metadata": {},
   "outputs": [],
   "source": []
  }
 ],
 "metadata": {
  "kernelspec": {
   "display_name": "Python 3 (ipykernel)",
   "language": "python",
   "name": "python3"
  },
  "language_info": {
   "codemirror_mode": {
    "name": "ipython",
    "version": 3
   },
   "file_extension": ".py",
   "mimetype": "text/x-python",
   "name": "python",
   "nbconvert_exporter": "python",
   "pygments_lexer": "ipython3",
   "version": "3.9.12"
  }
 },
 "nbformat": 4,
 "nbformat_minor": 5
}
