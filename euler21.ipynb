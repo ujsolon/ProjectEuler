{
 "cells": [
  {
   "cell_type": "code",
   "execution_count": 23,
   "id": "982a20f2",
   "metadata": {},
   "outputs": [
    {
     "data": {
      "text/plain": [
       "[1, 2, 4, 5, 10, 11, 20, 22, 44, 55, 110]"
      ]
     },
     "execution_count": 23,
     "metadata": {},
     "output_type": "execute_result"
    }
   ],
   "source": [
    "def get_divisors(n):\n",
    "    for i in range(1, int(n / 2) + 1):\n",
    "        if n % i == 0:\n",
    "            yield i\n",
    "    yield n"
   ]
  },
  {
   "cell_type": "code",
   "execution_count": 56,
   "id": "28fd0f5d",
   "metadata": {},
   "outputs": [
    {
     "data": {
      "text/plain": [
       "31626"
      ]
     },
     "execution_count": 56,
     "metadata": {},
     "output_type": "execute_result"
    }
   ],
   "source": [
    "def get_proper_divisors(n):\n",
    "    for i in range(1, int(n / 2) + 1):\n",
    "        if n % i == 0:\n",
    "            yield i\n",
    "def sum_divisors(n):\n",
    "    return sum(list(get_proper_divisors(n)))\n",
    "\n",
    "amicable=[]\n",
    "for i in range(1, 10000):\n",
    "    if i == sum_divisors(sum_divisors(i)) and i!=sum_divisors(i):\n",
    "        amicable.append(i)\n",
    "        \n",
    "sum(amicable)"
   ]
  },
  {
   "cell_type": "code",
   "execution_count": 42,
   "id": "886ab569",
   "metadata": {},
   "outputs": [
    {
     "data": {
      "text/plain": [
       "0"
      ]
     },
     "execution_count": 42,
     "metadata": {},
     "output_type": "execute_result"
    }
   ],
   "source": [
    "# if i=j cases are included\n",
    "[6, 28, 220, 284, 496, 1184, 1210, 2620, 2924, 5020, 5564, 6232, 6368, 8128]"
   ]
  },
  {
   "cell_type": "code",
   "execution_count": null,
   "id": "bfdd3627",
   "metadata": {},
   "outputs": [],
   "source": [
    "# i=j cases omitted\n",
    "[220, 284, 1184, 1210, 2620, 2924, 5020, 5564, 6232, 6368]"
   ]
  }
 ],
 "metadata": {
  "kernelspec": {
   "display_name": "Python 3 (ipykernel)",
   "language": "python",
   "name": "python3"
  },
  "language_info": {
   "codemirror_mode": {
    "name": "ipython",
    "version": 3
   },
   "file_extension": ".py",
   "mimetype": "text/x-python",
   "name": "python",
   "nbconvert_exporter": "python",
   "pygments_lexer": "ipython3",
   "version": "3.9.7"
  }
 },
 "nbformat": 4,
 "nbformat_minor": 5
}
